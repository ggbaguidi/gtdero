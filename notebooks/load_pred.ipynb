{
 "cells": [
  {
   "cell_type": "code",
   "execution_count": 2,
   "id": "225116da-2367-49b8-a8c1-5b1b9c4da18f",
   "metadata": {},
   "outputs": [],
   "source": [
    "import os\n",
    "import numpy as np\n",
    "import pandas as pd"
   ]
  },
  {
   "cell_type": "code",
   "execution_count": 3,
   "id": "26a23472-bc75-4fd8-9ba5-41a8ca871963",
   "metadata": {},
   "outputs": [],
   "source": [
    "ON = False"
   ]
  },
  {
   "cell_type": "code",
   "execution_count": 4,
   "id": "f16c55c3-fe05-472e-9778-c786ba17f27d",
   "metadata": {},
   "outputs": [],
   "source": [
    "FILE_PATH_s1=\"./../results/solar_s1_672_96_iTransformer_Solar_v2_M_ft672_sl96_ll96_pl512_dm8_nh2_el1_dl512_df1_fctimeF_ebTrue_dtExp_projection_0/real_prediction.npy\""
   ]
  },
  {
   "cell_type": "code",
   "execution_count": 5,
   "id": "f3edf8ae-d28c-4328-b317-6c4a1f24e1c7",
   "metadata": {},
   "outputs": [],
   "source": [
    "import pandas as pd\n",
    "import os\n",
    "\n",
    "def new_dataset(root_path, data_path, target='Total Energy(kWh)',\n",
    "                new_predictions=None):\n",
    "    # Load the previous dataset\n",
    "    df_raw = pd.read_csv(os.path.join(root_path, data_path))\n",
    "    date = 'date'\n",
    "    if 'index' in df_raw.columns:\n",
    "        date = 'index'\n",
    "    # Ensure the 'date' column is in datetime format\n",
    "    df_raw[date] = pd.to_datetime(df_raw[date])\n",
    "\n",
    "    # Generate a new date range based on the existing dataset's last date\n",
    "    last_date = df_raw[date].iloc[-1]\n",
    "    l_new_predictions = 0\n",
    "    if new_predictions is not None:\n",
    "        l_new_predictions = len(new_predictions[0])\n",
    "    new_dates = pd.date_range(start=last_date + pd.Timedelta(minutes=15), \n",
    "                               periods=l_new_predictions, \n",
    "                               freq='15min')\n",
    "\n",
    "\n",
    "    # Create a new DataFrame for new predictions\n",
    "    if new_predictions is not None:\n",
    "        df_new = pd.DataFrame({\n",
    "            date: new_dates,\n",
    "        })\n",
    "        \n",
    "        new_cols = list(df_raw.columns)[1:]\n",
    "        for i, col in enumerate(new_cols):\n",
    "            pred = new_predictions[:, :, i][0]\n",
    "            df_new[col] = np.where(pred < 0.00, 0, pred)\n",
    "\n",
    "        # Combine the old and new datasets\n",
    "        df_combined = pd.concat([df_raw, df_new], ignore_index=True)\n",
    "    else:\n",
    "        df_combined = df_raw\n",
    "    # print(df_raw.shape, df_new.shape)\n",
    "    new_data_path = data_path\n",
    "    if '_v2' not in data_path:\n",
    "        new_data_path = data_path.split('.')[0]+'_v2.csv'\n",
    "    df_combined.to_csv(os.path.join(root_path, new_data_path), index=False)\n",
    "    print('data saved ...')\n",
    "    return df_combined"
   ]
  },
  {
   "cell_type": "code",
   "execution_count": 6,
   "id": "5ee48b2d-9fa1-43a1-8d6c-c17c1bb2e972",
   "metadata": {},
   "outputs": [],
   "source": [
    "if ON:\n",
    "    for i in range(1, 11):\n",
    "        new_dataset('./../../../', f'data/input/site{i}/energy_consumption.csv')"
   ]
  },
  {
   "cell_type": "code",
   "execution_count": 7,
   "id": "5b2e3678-3282-4dbe-be39-adabc099751b",
   "metadata": {},
   "outputs": [],
   "source": [
    "if ON:\n",
    "    for i in range(1, 11):\n",
    "        new_dataset('./../../../', f'data/input/site{i}/solar_weather_data.csv')"
   ]
  },
  {
   "cell_type": "code",
   "execution_count": 8,
   "id": "77f7392c-3968-4023-a679-64afb71453ef",
   "metadata": {},
   "outputs": [
    {
     "data": {
      "text/plain": [
       "-7.0"
      ]
     },
     "execution_count": 8,
     "metadata": {},
     "output_type": "execute_result"
    }
   ],
   "source": [
    "df_init = pd.read_csv('./../../../data/input/site1/energy_consumption.csv')\n",
    "df_v2 = pd.read_csv('./../../../data/input/site1/energy_consumption_v2.csv')\n",
    "# assert df_init.shape == df_v2.shape\n",
    "(df_init.shape[0] - df_v2.shape[0]) / 96"
   ]
  },
  {
   "cell_type": "code",
   "execution_count": 13,
   "id": "a288023f-9774-46c1-aa7b-d94e8fd16b24",
   "metadata": {},
   "outputs": [
    {
     "data": {
      "text/plain": [
       "-7.0"
      ]
     },
     "execution_count": 13,
     "metadata": {},
     "output_type": "execute_result"
    }
   ],
   "source": [
    "df_init = pd.read_csv('./../../../data/input/site1/solar_weather_data.csv')\n",
    "df_v2 = pd.read_csv('./../../../data/input/site1/solar_weather_data_v2.csv')\n",
    "# assert df_init.shape == df_v2.shape\n",
    "(df_init.shape[0] - df_v2.shape[0]) / 96"
   ]
  },
  {
   "cell_type": "code",
   "execution_count": 15,
   "id": "69ce6dd0",
   "metadata": {},
   "outputs": [
    {
     "data": {
      "text/html": [
       "<div>\n",
       "<style scoped>\n",
       "    .dataframe tbody tr th:only-of-type {\n",
       "        vertical-align: middle;\n",
       "    }\n",
       "\n",
       "    .dataframe tbody tr th {\n",
       "        vertical-align: top;\n",
       "    }\n",
       "\n",
       "    .dataframe thead th {\n",
       "        text-align: right;\n",
       "    }\n",
       "</style>\n",
       "<table border=\"1\" class=\"dataframe\">\n",
       "  <thead>\n",
       "    <tr style=\"text-align: right;\">\n",
       "      <th></th>\n",
       "      <th>index</th>\n",
       "      <th>Solar Zenith Angle</th>\n",
       "      <th>Clearsky DHI</th>\n",
       "      <th>Clearsky DNI</th>\n",
       "      <th>Clearsky GHI</th>\n",
       "      <th>Relative Humidity</th>\n",
       "      <th>DHI</th>\n",
       "      <th>DNI</th>\n",
       "      <th>GHI</th>\n",
       "      <th>Energy Output(kWh)</th>\n",
       "    </tr>\n",
       "  </thead>\n",
       "  <tbody>\n",
       "    <tr>\n",
       "      <th>5756</th>\n",
       "      <td>2020-02-29 23:00:00</td>\n",
       "      <td>161.05</td>\n",
       "      <td>0.0</td>\n",
       "      <td>0.0</td>\n",
       "      <td>0.0</td>\n",
       "      <td>75.31</td>\n",
       "      <td>0.0</td>\n",
       "      <td>0.0</td>\n",
       "      <td>0.0</td>\n",
       "      <td>0.0</td>\n",
       "    </tr>\n",
       "  </tbody>\n",
       "</table>\n",
       "</div>"
      ],
      "text/plain": [
       "                    index  Solar Zenith Angle  Clearsky DHI  Clearsky DNI  \\\n",
       "5756  2020-02-29 23:00:00              161.05           0.0           0.0   \n",
       "\n",
       "      Clearsky GHI  Relative Humidity  DHI  DNI  GHI  Energy Output(kWh)  \n",
       "5756           0.0              75.31  0.0  0.0  0.0                 0.0  "
      ]
     },
     "execution_count": 15,
     "metadata": {},
     "output_type": "execute_result"
    }
   ],
   "source": [
    "df_init.tail(1)"
   ]
  },
  {
   "cell_type": "code",
   "execution_count": 18,
   "id": "1841f798-fc35-4e81-b468-52a8611cc82f",
   "metadata": {
    "scrolled": true
   },
   "outputs": [
    {
     "data": {
      "text/plain": [
       "<Axes: >"
      ]
     },
     "execution_count": 18,
     "metadata": {},
     "output_type": "execute_result"
    },
    {
     "data": {
      "image/png": "[encoded data removed]",
      "text/plain": [
       "<Figure size 640x480 with 1 Axes>"
      ]
     },
     "metadata": {},
     "output_type": "display_data"
    }
   ],
   "source": [
    "df_v2.tail(673)[\"Energy Output(kWh)\"].plot()"
   ]
  },
  {
   "cell_type": "code",
   "execution_count": 11,
   "id": "cedd3e52-515f-4c34-86bf-872e71494dd6",
   "metadata": {},
   "outputs": [],
   "source": [
    "if False:\n",
    "    for i in range(1, 11):\n",
    "        pred = pd.read_csv(f'./../../../data/input/site{i}/energy_consumption_v2.csv').tail(672)[['index', 'Total Energy(kWh)']]\n",
    "        pred.to_csv(f'./../../../data/output/site{i}/pred_demand.csv', index=False)\n",
    "        pred = pd.read_csv(f'./../../../data/input/site{i}/solar_weather_data_v2.csv').tail(672)[['index', 'Energy Output(kWh)']]\n",
    "        pred.to_csv(f'./../../../data/output/site{i}/pred_solar.csv', index=False)"
   ]
  },
  {
   "cell_type": "code",
   "execution_count": null,
   "id": "c784139e-d8f9-420d-943a-42df13fa3c76",
   "metadata": {},
   "outputs": [],
   "source": []
  }
 ],
 "metadata": {
  "kernelspec": {
   "display_name": "tf",
   "language": "python",
   "name": "python3"
  },
  "language_info": {
   "codemirror_mode": {
    "name": "ipython",
    "version": 3
   },
   "file_extension": ".py",
   "mimetype": "text/x-python",
   "name": "python",
   "nbconvert_exporter": "python",
   "pygments_lexer": "ipython3",
   "version": "3.11.11"
  }
 },
 "nbformat": 4,
 "nbformat_minor": 5
}
