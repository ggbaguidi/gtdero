{
 "cells": [
  {
   "cell_type": "code",
   "execution_count": 1,
   "metadata": {},
   "outputs": [
    {
     "data": {
      "text/html": [
       "\n",
       "            <div>\n",
       "                <ins><a href=\"ttps://ydata.ai/register\">Upgrade to ydata-sdk</a></ins>\n",
       "                <p>\n",
       "                    Improve your data and profiling with ydata-sdk, featuring data quality scoring, redundancy detection, outlier identification, text validation, and synthetic data generation.\n",
       "                </p>\n",
       "            </div>\n",
       "            "
      ],
      "text/plain": [
       "<IPython.core.display.HTML object>"
      ]
     },
     "metadata": {},
     "output_type": "display_data"
    },
    {
     "name": "stderr",
     "output_type": "stream",
     "text": [
      "QSocketNotifier: Can only be used with threads started with QThread\n"
     ]
    }
   ],
   "source": [
    "import numpy as np\n",
    "import pandas as pd\n",
    "import seaborn as sns\n",
    "import matplotlib\n",
    "\n",
    "import matplotlib.pyplot as plt\n",
    "from ydata_profiling import ProfileReport\n",
    "\n",
    "matplotlib.use('Qt5Agg')"
   ]
  },
  {
   "cell_type": "code",
   "execution_count": 2,
   "metadata": {},
   "outputs": [],
   "source": [
    "ROOT_PATH = './../'\n",
    "ENERGY_DATA_PATH = 'datasets/processed/consumption_solar_merged.csv'\n",
    "REPORT_PATH = 'reports/energy_data_report.html'"
   ]
  },
  {
   "cell_type": "code",
   "execution_count": 3,
   "metadata": {},
   "outputs": [
    {
     "data": {
      "application/vnd.jupyter.widget-view+json": {
       "model_id": "9eab15f1b622401da5a75b046c0b0045",
       "version_major": 2,
       "version_minor": 0
      },
      "text/plain": [
       "Summarize dataset:   0%|          | 0/5 [00:00<?, ?it/s]"
      ]
     },
     "metadata": {},
     "output_type": "display_data"
    },
    {
     "data": {
      "application/vnd.jupyter.widget-view+json": {
       "model_id": "6f9d08a6f375471e8672f7f563e8b7be",
       "version_major": 2,
       "version_minor": 0
      },
      "text/plain": [
       "Generate report structure:   0%|          | 0/1 [00:00<?, ?it/s]"
      ]
     },
     "metadata": {},
     "output_type": "display_data"
    },
    {
     "data": {
      "application/vnd.jupyter.widget-view+json": {
       "model_id": "ac4d0207ece142af952fbca6e4be5613",
       "version_major": 2,
       "version_minor": 0
      },
      "text/plain": [
       "Render HTML:   0%|          | 0/1 [00:00<?, ?it/s]"
      ]
     },
     "metadata": {},
     "output_type": "display_data"
    },
    {
     "data": {
      "application/vnd.jupyter.widget-view+json": {
       "model_id": "b7522e5fd5d24ecd8a8fcd02cff0b658",
       "version_major": 2,
       "version_minor": 0
      },
      "text/plain": [
       "Export report to file:   0%|          | 0/1 [00:00<?, ?it/s]"
      ]
     },
     "metadata": {},
     "output_type": "display_data"
    }
   ],
   "source": [
    "df = pd.read_csv(ROOT_PATH + ENERGY_DATA_PATH)\n",
    "profile = ProfileReport(df, title='Energy Consumption Data Profiling Report')\n",
    "profile.to_file(ROOT_PATH + REPORT_PATH)"
   ]
  },
  {
   "cell_type": "code",
   "execution_count": 4,
   "metadata": {},
   "outputs": [
    {
     "data": {
      "text/html": [
       "<div>\n",
       "<style scoped>\n",
       "    .dataframe tbody tr th:only-of-type {\n",
       "        vertical-align: middle;\n",
       "    }\n",
       "\n",
       "    .dataframe tbody tr th {\n",
       "        vertical-align: top;\n",
       "    }\n",
       "\n",
       "    .dataframe thead th {\n",
       "        text-align: right;\n",
       "    }\n",
       "</style>\n",
       "<table border=\"1\" class=\"dataframe\">\n",
       "  <thead>\n",
       "    <tr style=\"text-align: right;\">\n",
       "      <th></th>\n",
       "      <th>Site Name</th>\n",
       "      <th>Day</th>\n",
       "      <th>Hour</th>\n",
       "      <th>Total Energy(kWh)</th>\n",
       "      <th>Datetime</th>\n",
       "    </tr>\n",
       "  </thead>\n",
       "  <tbody>\n",
       "    <tr>\n",
       "      <th>0</th>\n",
       "      <td>site1</td>\n",
       "      <td>1</td>\n",
       "      <td>0</td>\n",
       "      <td>4.48</td>\n",
       "      <td>2023-01-01 00:00:00</td>\n",
       "    </tr>\n",
       "    <tr>\n",
       "      <th>1</th>\n",
       "      <td>site1</td>\n",
       "      <td>1</td>\n",
       "      <td>1</td>\n",
       "      <td>4.30</td>\n",
       "      <td>2023-01-01 01:00:00</td>\n",
       "    </tr>\n",
       "    <tr>\n",
       "      <th>2</th>\n",
       "      <td>site1</td>\n",
       "      <td>1</td>\n",
       "      <td>2</td>\n",
       "      <td>4.17</td>\n",
       "      <td>2023-01-01 02:00:00</td>\n",
       "    </tr>\n",
       "    <tr>\n",
       "      <th>3</th>\n",
       "      <td>site1</td>\n",
       "      <td>1</td>\n",
       "      <td>3</td>\n",
       "      <td>4.15</td>\n",
       "      <td>2023-01-01 03:00:00</td>\n",
       "    </tr>\n",
       "    <tr>\n",
       "      <th>4</th>\n",
       "      <td>site1</td>\n",
       "      <td>1</td>\n",
       "      <td>4</td>\n",
       "      <td>4.32</td>\n",
       "      <td>2023-01-01 04:00:00</td>\n",
       "    </tr>\n",
       "  </tbody>\n",
       "</table>\n",
       "</div>"
      ],
      "text/plain": [
       "  Site Name  Day  Hour  Total Energy(kWh)             Datetime\n",
       "0     site1    1     0               4.48  2023-01-01 00:00:00\n",
       "1     site1    1     1               4.30  2023-01-01 01:00:00\n",
       "2     site1    1     2               4.17  2023-01-01 02:00:00\n",
       "3     site1    1     3               4.15  2023-01-01 03:00:00\n",
       "4     site1    1     4               4.32  2023-01-01 04:00:00"
      ]
     },
     "execution_count": 4,
     "metadata": {},
     "output_type": "execute_result"
    }
   ],
   "source": [
    "df.head()"
   ]
  },
  {
   "cell_type": "code",
   "execution_count": 5,
   "metadata": {},
   "outputs": [
    {
     "data": {
      "text/html": [
       "<div>\n",
       "<style scoped>\n",
       "    .dataframe tbody tr th:only-of-type {\n",
       "        vertical-align: middle;\n",
       "    }\n",
       "\n",
       "    .dataframe tbody tr th {\n",
       "        vertical-align: top;\n",
       "    }\n",
       "\n",
       "    .dataframe thead th {\n",
       "        text-align: right;\n",
       "    }\n",
       "</style>\n",
       "<table border=\"1\" class=\"dataframe\">\n",
       "  <thead>\n",
       "    <tr style=\"text-align: right;\">\n",
       "      <th></th>\n",
       "      <th>Day</th>\n",
       "      <th>Hour</th>\n",
       "      <th>Total Energy(kWh)</th>\n",
       "    </tr>\n",
       "  </thead>\n",
       "  <tbody>\n",
       "    <tr>\n",
       "      <th>count</th>\n",
       "      <td>14400.000000</td>\n",
       "      <td>14400.000000</td>\n",
       "      <td>14400.000000</td>\n",
       "    </tr>\n",
       "    <tr>\n",
       "      <th>mean</th>\n",
       "      <td>30.500000</td>\n",
       "      <td>11.500000</td>\n",
       "      <td>5.682772</td>\n",
       "    </tr>\n",
       "    <tr>\n",
       "      <th>std</th>\n",
       "      <td>17.318704</td>\n",
       "      <td>6.922427</td>\n",
       "      <td>2.704091</td>\n",
       "    </tr>\n",
       "    <tr>\n",
       "      <th>min</th>\n",
       "      <td>1.000000</td>\n",
       "      <td>0.000000</td>\n",
       "      <td>0.600000</td>\n",
       "    </tr>\n",
       "    <tr>\n",
       "      <th>25%</th>\n",
       "      <td>15.750000</td>\n",
       "      <td>5.750000</td>\n",
       "      <td>4.060000</td>\n",
       "    </tr>\n",
       "    <tr>\n",
       "      <th>50%</th>\n",
       "      <td>30.500000</td>\n",
       "      <td>11.500000</td>\n",
       "      <td>4.450000</td>\n",
       "    </tr>\n",
       "    <tr>\n",
       "      <th>75%</th>\n",
       "      <td>45.250000</td>\n",
       "      <td>17.250000</td>\n",
       "      <td>8.570000</td>\n",
       "    </tr>\n",
       "    <tr>\n",
       "      <th>max</th>\n",
       "      <td>60.000000</td>\n",
       "      <td>23.000000</td>\n",
       "      <td>11.670000</td>\n",
       "    </tr>\n",
       "  </tbody>\n",
       "</table>\n",
       "</div>"
      ],
      "text/plain": [
       "                Day          Hour  Total Energy(kWh)\n",
       "count  14400.000000  14400.000000       14400.000000\n",
       "mean      30.500000     11.500000           5.682772\n",
       "std       17.318704      6.922427           2.704091\n",
       "min        1.000000      0.000000           0.600000\n",
       "25%       15.750000      5.750000           4.060000\n",
       "50%       30.500000     11.500000           4.450000\n",
       "75%       45.250000     17.250000           8.570000\n",
       "max       60.000000     23.000000          11.670000"
      ]
     },
     "execution_count": 5,
     "metadata": {},
     "output_type": "execute_result"
    }
   ],
   "source": [
    "df.describe()"
   ]
  },
  {
   "cell_type": "code",
   "execution_count": 6,
   "metadata": {},
   "outputs": [
    {
     "name": "stdout",
     "output_type": "stream",
     "text": [
      "<class 'pandas.core.frame.DataFrame'>\n",
      "RangeIndex: 14400 entries, 0 to 14399\n",
      "Data columns (total 5 columns):\n",
      " #   Column             Non-Null Count  Dtype  \n",
      "---  ------             --------------  -----  \n",
      " 0   Site Name          14400 non-null  object \n",
      " 1   Day                14400 non-null  int64  \n",
      " 2   Hour               14400 non-null  int64  \n",
      " 3   Total Energy(kWh)  14400 non-null  float64\n",
      " 4   Datetime           14400 non-null  object \n",
      "dtypes: float64(1), int64(2), object(2)\n",
      "memory usage: 562.6+ KB\n"
     ]
    }
   ],
   "source": [
    "df.info()"
   ]
  },
  {
   "cell_type": "code",
   "execution_count": 9,
   "metadata": {},
   "outputs": [
    {
     "name": "stderr",
     "output_type": "stream",
     "text": [
      "qt.qpa.wayland: Wayland does not support QWindow::requestActivate()\n",
      "qt.qpa.wayland: Wayland does not support QWindow::requestActivate()\n",
      "qt.qpa.wayland: Wayland does not support QWindow::requestActivate()\n",
      "qt.qpa.wayland: Wayland does not support QWindow::requestActivate()\n",
      "qt.qpa.wayland: Wayland does not support QWindow::requestActivate()\n",
      "qt.qpa.wayland: Wayland does not support QWindow::requestActivate()\n",
      "qt.qpa.wayland: Wayland does not support QWindow::requestActivate()\n",
      "qt.qpa.wayland: Wayland does not support QWindow::requestActivate()\n",
      "qt.qpa.wayland: Wayland does not support QWindow::requestActivate()\n",
      "qt.qpa.wayland: Wayland does not support QWindow::requestActivate()\n",
      "qt.qpa.wayland: Wayland does not support QWindow::requestActivate()\n",
      "qt.qpa.wayland: Wayland does not support QWindow::requestActivate()\n",
      "qt.qpa.wayland: Wayland does not support QWindow::requestActivate()\n"
     ]
    }
   ],
   "source": [
    "# Pivot the dataframe to get hours as columns and days as rows\n",
    "pivot_df = df.pivot_table(index='Day', columns='Hour', values='Total Energy(kWh)', aggfunc='mean')\n",
    "\n",
    "# Plot the heatmap\n",
    "plt.figure(figsize=(12, 8))\n",
    "sns.heatmap(pivot_df, cmap='viridis', annot=False, fmt=\".2f\")\n",
    "plt.title('Heatmap of Energy Consumption per Hour')\n",
    "plt.xlabel('Hour')\n",
    "plt.ylabel('Day')\n",
    "plt.show()\n",
    "\n",
    "# Create a pivot table for each site\n",
    "for site in df['Site Name'].unique():\n",
    "    site_df = df[df['Site Name'] == site]\n",
    "    pivot_site_df = site_df.pivot_table(index='Day', columns='Hour', values='Total Energy(kWh)', aggfunc='mean')\n",
    "    \n",
    "    # Plot the heatmap for each site\n",
    "    plt.figure(figsize=(12, 8))\n",
    "    sns.heatmap(pivot_site_df, cmap='viridis', annot=False, fmt=\".2f\")\n",
    "    plt.title(f'Heatmap of Energy Consumption per Hour for {site}')\n",
    "    plt.xlabel('Hour')\n",
    "    plt.ylabel('Day')\n",
    "    plt.show()"
   ]
  },
  {
   "cell_type": "code",
   "execution_count": 11,
   "metadata": {},
   "outputs": [
    {
     "name": "stdout",
     "output_type": "stream",
     "text": [
      "Number of sites: 10\n",
      "\n",
      "Basic statistics by site:\n",
      "            count      mean       std   min     25%    50%      75%    max\n",
      "Site Name                                                                 \n",
      "site1      1440.0  4.547507  0.542484  1.91  4.3800  4.650   4.8600   5.59\n",
      "site10     1440.0  4.080056  0.230967  2.48  3.9700  4.060   4.2000   6.98\n",
      "site2      1440.0  9.655854  0.777470  5.54  9.1475  9.780  10.2000  11.67\n",
      "site3      1440.0  5.879653  2.656415  1.31  2.7150  7.245   8.1725   9.31\n",
      "site4      1440.0  9.557389  0.685180  4.88  9.0800  9.580  10.0200  11.48\n",
      "site5      1440.0  8.324674  1.479104  2.02  8.2375  8.820   9.0600  10.31\n",
      "site6      1440.0  4.244549  0.460316  0.60  4.1700  4.260   4.4400   4.90\n",
      "site7      1440.0  4.245285  0.587350  0.79  4.1200  4.390   4.4500   5.30\n",
      "site8      1440.0  2.136347  1.063300  1.31  1.7400  1.970   2.1400   8.13\n",
      "site9      1440.0  4.156403  0.235679  1.53  4.0400  4.200   4.2300   4.68\n"
     ]
    },
    {
     "name": "stderr",
     "output_type": "stream",
     "text": [
      "qt.qpa.wayland: Wayland does not support QWindow::requestActivate()\n"
     ]
    },
    {
     "name": "stdout",
     "output_type": "stream",
     "text": [
      "\n",
      "Modeling Strategy Recommendations:\n",
      "1. Single Model Approach:\n",
      "   - Pros: More data for training, simpler to maintain\n",
      "   - Cons: May miss site-specific patterns\n",
      "   - Best when: Sites show similar consumption patterns\n",
      "\n",
      "2. Multiple Models Approach (one per site):\n",
      "   - Pros: Can capture site-specific patterns\n",
      "   - Cons: Requires more maintenance, may have less data per model\n",
      "   - Best when: Sites show distinct consumption patterns\n",
      "\n",
      "For 15-minute predictions: Current data appears hourly. You'll need to:\n",
      "1. Check if 15-minute data is available\n",
      "2. If not, consider interpolation or obtaining more granular data\n"
     ]
    }
   ],
   "source": [
    "# Analyze differences between sites to determine modeling strategy\n",
    "# First, let's check how many unique sites we have\n",
    "sites = df['Site Name'].unique()\n",
    "print(f\"Number of sites: {len(sites)}\")\n",
    "\n",
    "# Compare basic statistics across sites\n",
    "site_stats = df.groupby('Site Name')['Total Energy(kWh)'].describe()\n",
    "print(\"\\nBasic statistics by site:\")\n",
    "print(site_stats)\n",
    "\n",
    "# Check for pattern differences between sites\n",
    "plt.figure(figsize=(12, 8))\n",
    "for site in sites:\n",
    "    site_data = df[df['Site Name'] == site].groupby('Hour')['Total Energy(kWh)'].mean()\n",
    "    plt.plot(site_data.index, site_data.values, label=site)\n",
    "plt.title('Average Energy Consumption by Hour for Each Site')\n",
    "plt.xlabel('Hour of Day')\n",
    "plt.ylabel('Average Energy Consumption (kWh)')\n",
    "plt.legend()\n",
    "plt.grid(True)\n",
    "plt.show()\n",
    "\n",
    "# Recommendations\n",
    "print(\"\\nModeling Strategy Recommendations:\")\n",
    "print(\"1. Single Model Approach:\")\n",
    "print(\"   - Pros: More data for training, simpler to maintain\")\n",
    "print(\"   - Cons: May miss site-specific patterns\")\n",
    "print(\"   - Best when: Sites show similar consumption patterns\")\n",
    "print(\"\\n2. Multiple Models Approach (one per site):\")\n",
    "print(\"   - Pros: Can capture site-specific patterns\")\n",
    "print(\"   - Cons: Requires more maintenance, may have less data per model\")\n",
    "print(\"   - Best when: Sites show distinct consumption patterns\")\n",
    "print(\"\\nFor 15-minute predictions: Current data appears hourly. You'll need to:\")\n",
    "print(\"1. Check if 15-minute data is available\")\n",
    "print(\"2. If not, consider interpolation or obtaining more granular data\")"
   ]
  },
  {
   "cell_type": "markdown",
   "metadata": {},
   "source": [
    "Patterns wers shown by sites are not similar:\n",
    "* site1, 6, 7, 9, 10 show us approximatly same pattern\n",
    "* site2 and 4 same things\n",
    "* site3 different pattern\n",
    "* site5  different pattern\n",
    "\n",
    "Based on the analysis, it seems that a one-model-fits-all approach would not capture the nuances of energy consumption across the different sites. Sites 1, 6, 7, 9, and 10 demonstrate a similar pattern, which suggests that they could be grouped for modeling. In contrast, sites 2 and 4 share their own distinct behavior, while sites 3 and 5 each display unique patterns. Therefore, it would be advisable to tailor your modeling strategy by segmenting the sites into these groups rather than using a single model for all.\n"
   ]
  },
  {
   "cell_type": "code",
   "execution_count": 12,
   "metadata": {},
   "outputs": [
    {
     "name": "stdout",
     "output_type": "stream",
     "text": [
      "Group 1 (sites: ['site1', 'site6', 'site7', 'site9', 'site10']) has shape: (7200, 5)\n",
      "Group 2 (sites: ['site2', 'site4']) has shape: (2880, 5)\n",
      "Group 3 (sites: ['site3']) has shape: (1440, 5)\n",
      "Group 4 (sites: ['site5']) has shape: (1440, 5)\n"
     ]
    }
   ],
   "source": [
    "# Define the site groups\n",
    "group1_sites = ['site1', 'site6', 'site7', 'site9', 'site10']\n",
    "group2_sites = ['site2', 'site4']\n",
    "group3_sites = ['site3']\n",
    "group4_sites = ['site5']\n",
    "\n",
    "# Create dataframes for each group\n",
    "group1_df = df[df['Site Name'].isin(group1_sites)]\n",
    "group2_df = df[df['Site Name'].isin(group2_sites)]\n",
    "group3_df = df[df['Site Name'].isin(group3_sites)]\n",
    "group4_df = df[df['Site Name'].isin(group4_sites)]\n",
    "\n",
    "# Quick summary of each group\n",
    "print(\"Group 1 (sites: {}) has shape: {}\".format(group1_sites, group1_df.shape))\n",
    "print(\"Group 2 (sites: {}) has shape: {}\".format(group2_sites, group2_df.shape))\n",
    "print(\"Group 3 (sites: {}) has shape: {}\".format(group3_sites, group3_df.shape))\n",
    "print(\"Group 4 (sites: {}) has shape: {}\".format(group4_sites, group4_df.shape))"
   ]
  },
  {
   "cell_type": "code",
   "execution_count": 14,
   "metadata": {},
   "outputs": [
    {
     "data": {
      "text/html": [
       "<div>\n",
       "<style scoped>\n",
       "    .dataframe tbody tr th:only-of-type {\n",
       "        vertical-align: middle;\n",
       "    }\n",
       "\n",
       "    .dataframe tbody tr th {\n",
       "        vertical-align: top;\n",
       "    }\n",
       "\n",
       "    .dataframe thead th {\n",
       "        text-align: right;\n",
       "    }\n",
       "</style>\n",
       "<table border=\"1\" class=\"dataframe\">\n",
       "  <thead>\n",
       "    <tr style=\"text-align: right;\">\n",
       "      <th></th>\n",
       "      <th>Site Name</th>\n",
       "      <th>Day</th>\n",
       "      <th>Hour</th>\n",
       "      <th>Total Energy(kWh)</th>\n",
       "      <th>Datetime</th>\n",
       "    </tr>\n",
       "  </thead>\n",
       "  <tbody>\n",
       "    <tr>\n",
       "      <th>7200</th>\n",
       "      <td>site5</td>\n",
       "      <td>1</td>\n",
       "      <td>0</td>\n",
       "      <td>8.30</td>\n",
       "      <td>2023-01-01 00:00:00</td>\n",
       "    </tr>\n",
       "    <tr>\n",
       "      <th>7201</th>\n",
       "      <td>site5</td>\n",
       "      <td>1</td>\n",
       "      <td>1</td>\n",
       "      <td>7.33</td>\n",
       "      <td>2023-01-01 01:00:00</td>\n",
       "    </tr>\n",
       "    <tr>\n",
       "      <th>7202</th>\n",
       "      <td>site5</td>\n",
       "      <td>1</td>\n",
       "      <td>2</td>\n",
       "      <td>4.47</td>\n",
       "      <td>2023-01-01 02:00:00</td>\n",
       "    </tr>\n",
       "    <tr>\n",
       "      <th>7203</th>\n",
       "      <td>site5</td>\n",
       "      <td>1</td>\n",
       "      <td>3</td>\n",
       "      <td>3.10</td>\n",
       "      <td>2023-01-01 03:00:00</td>\n",
       "    </tr>\n",
       "    <tr>\n",
       "      <th>7204</th>\n",
       "      <td>site5</td>\n",
       "      <td>1</td>\n",
       "      <td>4</td>\n",
       "      <td>6.74</td>\n",
       "      <td>2023-01-01 04:00:00</td>\n",
       "    </tr>\n",
       "  </tbody>\n",
       "</table>\n",
       "</div>"
      ],
      "text/plain": [
       "     Site Name  Day  Hour  Total Energy(kWh)            Datetime\n",
       "7200     site5    1     0               8.30 2023-01-01 00:00:00\n",
       "7201     site5    1     1               7.33 2023-01-01 01:00:00\n",
       "7202     site5    1     2               4.47 2023-01-01 02:00:00\n",
       "7203     site5    1     3               3.10 2023-01-01 03:00:00\n",
       "7204     site5    1     4               6.74 2023-01-01 04:00:00"
      ]
     },
     "execution_count": 14,
     "metadata": {},
     "output_type": "execute_result"
    }
   ],
   "source": [
    "group4_df.head()"
   ]
  },
  {
   "cell_type": "code",
   "execution_count": null,
   "metadata": {},
   "outputs": [],
   "source": []
  }
 ],
 "metadata": {
  "kernelspec": {
   "display_name": ".venv",
   "language": "python",
   "name": "python3"
  },
  "language_info": {
   "codemirror_mode": {
    "name": "ipython",
    "version": 3
   },
   "file_extension": ".py",
   "mimetype": "text/x-python",
   "name": "python",
   "nbconvert_exporter": "python",
   "pygments_lexer": "ipython3",
   "version": "3.12.3"
  }
 },
 "nbformat": 4,
 "nbformat_minor": 2
}
